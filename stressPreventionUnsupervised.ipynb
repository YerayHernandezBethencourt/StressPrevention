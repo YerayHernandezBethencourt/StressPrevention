{
  "cells": [
    {
      "cell_type": "markdown",
      "metadata": {
        "id": "TOpq4rnnRU5v"
      },
      "source": [
        "Yeray Hernández Bethencourt"
      ]
    },
    {
      "cell_type": "markdown",
      "metadata": {
        "id": "pTJRHtFoRU5y",
        "vscode": {
          "languageId": "plaintext"
        }
      },
      "source": [
        "# Exploring df"
      ]
    },
    {
      "cell_type": "markdown",
      "metadata": {
        "id": "6c1OLKn2RU5z"
      },
      "source": [
        "| Field                       | Description                                                                                      |\n",
        "|-----------------------------|--------------------------------------------------------------------------------------------------|\n",
        "| Person ID                   | An identifier for each individual in the dfset.                                                |\n",
        "| Gender                      | The gender of the person (Male/Female).                                                          |\n",
        "| Age                         | The age of the person in years.                                                                  |\n",
        "| Occupation                  | The occupation or profession of the person.                                                      |\n",
        "| Sleep Duration (hours)      | The number of hours the person sleeps per day.                                                   |\n",
        "| Quality of Sleep (scale: 1-10) | A subjective rating of the quality of sleep, ranging from 1 to 10.                               |\n",
        "| Physical Activity Level (minutes/day) | The number of minutes the person engages in physical activity daily.                        |\n",
        "| Stress Level (scale: 1-10)  | A subjective rating of the stress level experienced by the person, ranging from 1 to 10.         |\n",
        "| BMI Category                | The BMI category of the person (e.g., Underweight, Normal, Overweight).                           |\n",
        "| Blood Pressure (systolic/diastolic) | The blood pressure measurement of the person, indicated as systolic pressure over diastolic pressure. |\n",
        "| Heart Rate (bpm)            | The resting heart rate of the person in beats per minute.                                         |\n",
        "| Daily Steps                 | The number of steps the person takes per day.                                                     |\n",
        "| Sleep Disorder              | The presence or absence of a sleep disorder in the person (None, Insomnia, Sleep Apnea).           |\n"
      ]
    },
    {
      "cell_type": "markdown",
      "metadata": {
        "id": "733QGPbyRU5z"
      },
      "source": [
        "## Imports and Load data"
      ]
    },
    {
      "cell_type": "code",
      "execution_count": 1,
      "metadata": {
        "id": "oaDibwQVRU50"
      },
      "outputs": [],
      "source": [
        "\n",
        "import pandas as pd\n",
        "import numpy as np\n",
        "from sklearn.metrics import classification_report\n",
        "from sklearn.metrics import mean_squared_error, mean_absolute_error\n",
        "from sklearn.ensemble import RandomForestClassifier\n",
        "from sklearn.model_selection import train_test_split\n",
        "from sklearn.metrics import accuracy_score\n",
        "from sklearn.metrics import f1_score, precision_score, recall_score\n",
        "from sklearn.calibration import LabelEncoder\n",
        "from sklearn.discriminant_analysis import LinearDiscriminantAnalysis as LDA\n",
        "from sklearn.preprocessing import LabelEncoder\n",
        "\n",
        "import matplotlib.pyplot as plt\n",
        "import seaborn as sns\n",
        "\n",
        "import warnings\n",
        "warnings.filterwarnings('ignore')\n",
        "ran_st = 30 # random state for reproducibility"
      ]
    },
    {
      "cell_type": "code",
      "execution_count": 2,
      "metadata": {
        "id": "z9DG4FXWRU51"
      },
      "outputs": [],
      "source": [
        "df = pd.read_csv('Sleep_health_and_lifestyle_dataset.csv')\n"
      ]
    },
    {
      "cell_type": "markdown",
      "metadata": {
        "id": "nyXOHrfLRU51"
      },
      "source": [
        "## Showing data"
      ]
    },
    {
      "cell_type": "code",
      "execution_count": 3,
      "metadata": {
        "colab": {
          "base_uri": "https://localhost:8080/",
          "height": 313
        },
        "id": "hyWod6fhRU51",
        "outputId": "0ba3b83a-5664-4486-e235-1365280858e8"
      },
      "outputs": [
        {
          "data": {
            "text/html": [
              "<div>\n",
              "<style scoped>\n",
              "    .dataframe tbody tr th:only-of-type {\n",
              "        vertical-align: middle;\n",
              "    }\n",
              "\n",
              "    .dataframe tbody tr th {\n",
              "        vertical-align: top;\n",
              "    }\n",
              "\n",
              "    .dataframe thead th {\n",
              "        text-align: right;\n",
              "    }\n",
              "</style>\n",
              "<table border=\"1\" class=\"dataframe\">\n",
              "  <thead>\n",
              "    <tr style=\"text-align: right;\">\n",
              "      <th></th>\n",
              "      <th>Person ID</th>\n",
              "      <th>Gender</th>\n",
              "      <th>Age</th>\n",
              "      <th>Occupation</th>\n",
              "      <th>Sleep Duration</th>\n",
              "      <th>Quality of Sleep</th>\n",
              "      <th>Physical Activity Level</th>\n",
              "      <th>Stress Level</th>\n",
              "      <th>BMI Category</th>\n",
              "      <th>Blood Pressure</th>\n",
              "      <th>Heart Rate</th>\n",
              "      <th>Daily Steps</th>\n",
              "      <th>Sleep Disorder</th>\n",
              "    </tr>\n",
              "  </thead>\n",
              "  <tbody>\n",
              "    <tr>\n",
              "      <th>0</th>\n",
              "      <td>1</td>\n",
              "      <td>Male</td>\n",
              "      <td>27</td>\n",
              "      <td>Software Engineer</td>\n",
              "      <td>6.1</td>\n",
              "      <td>6</td>\n",
              "      <td>42</td>\n",
              "      <td>6</td>\n",
              "      <td>Overweight</td>\n",
              "      <td>126/83</td>\n",
              "      <td>77</td>\n",
              "      <td>4200</td>\n",
              "      <td>NaN</td>\n",
              "    </tr>\n",
              "    <tr>\n",
              "      <th>1</th>\n",
              "      <td>2</td>\n",
              "      <td>Male</td>\n",
              "      <td>28</td>\n",
              "      <td>Doctor</td>\n",
              "      <td>6.2</td>\n",
              "      <td>6</td>\n",
              "      <td>60</td>\n",
              "      <td>8</td>\n",
              "      <td>Normal</td>\n",
              "      <td>125/80</td>\n",
              "      <td>75</td>\n",
              "      <td>10000</td>\n",
              "      <td>NaN</td>\n",
              "    </tr>\n",
              "    <tr>\n",
              "      <th>2</th>\n",
              "      <td>3</td>\n",
              "      <td>Male</td>\n",
              "      <td>28</td>\n",
              "      <td>Doctor</td>\n",
              "      <td>6.2</td>\n",
              "      <td>6</td>\n",
              "      <td>60</td>\n",
              "      <td>8</td>\n",
              "      <td>Normal</td>\n",
              "      <td>125/80</td>\n",
              "      <td>75</td>\n",
              "      <td>10000</td>\n",
              "      <td>NaN</td>\n",
              "    </tr>\n",
              "    <tr>\n",
              "      <th>3</th>\n",
              "      <td>4</td>\n",
              "      <td>Male</td>\n",
              "      <td>28</td>\n",
              "      <td>Sales Representative</td>\n",
              "      <td>5.9</td>\n",
              "      <td>4</td>\n",
              "      <td>30</td>\n",
              "      <td>8</td>\n",
              "      <td>Obese</td>\n",
              "      <td>140/90</td>\n",
              "      <td>85</td>\n",
              "      <td>3000</td>\n",
              "      <td>Sleep Apnea</td>\n",
              "    </tr>\n",
              "    <tr>\n",
              "      <th>4</th>\n",
              "      <td>5</td>\n",
              "      <td>Male</td>\n",
              "      <td>28</td>\n",
              "      <td>Sales Representative</td>\n",
              "      <td>5.9</td>\n",
              "      <td>4</td>\n",
              "      <td>30</td>\n",
              "      <td>8</td>\n",
              "      <td>Obese</td>\n",
              "      <td>140/90</td>\n",
              "      <td>85</td>\n",
              "      <td>3000</td>\n",
              "      <td>Sleep Apnea</td>\n",
              "    </tr>\n",
              "  </tbody>\n",
              "</table>\n",
              "</div>"
            ],
            "text/plain": [
              "   Person ID Gender  Age            Occupation  Sleep Duration  \\\n",
              "0          1   Male   27     Software Engineer             6.1   \n",
              "1          2   Male   28                Doctor             6.2   \n",
              "2          3   Male   28                Doctor             6.2   \n",
              "3          4   Male   28  Sales Representative             5.9   \n",
              "4          5   Male   28  Sales Representative             5.9   \n",
              "\n",
              "   Quality of Sleep  Physical Activity Level  Stress Level BMI Category  \\\n",
              "0                 6                       42             6   Overweight   \n",
              "1                 6                       60             8       Normal   \n",
              "2                 6                       60             8       Normal   \n",
              "3                 4                       30             8        Obese   \n",
              "4                 4                       30             8        Obese   \n",
              "\n",
              "  Blood Pressure  Heart Rate  Daily Steps Sleep Disorder  \n",
              "0         126/83          77         4200            NaN  \n",
              "1         125/80          75        10000            NaN  \n",
              "2         125/80          75        10000            NaN  \n",
              "3         140/90          85         3000    Sleep Apnea  \n",
              "4         140/90          85         3000    Sleep Apnea  "
            ]
          },
          "execution_count": 3,
          "metadata": {},
          "output_type": "execute_result"
        }
      ],
      "source": [
        "df.head()"
      ]
    },
    {
      "cell_type": "code",
      "execution_count": 4,
      "metadata": {
        "colab": {
          "base_uri": "https://localhost:8080/"
        },
        "id": "UDkPuX_GRU52",
        "outputId": "a7829817-be38-4025-93d6-a45a525fcba5"
      },
      "outputs": [
        {
          "data": {
            "text/plain": [
              "(374, 13)"
            ]
          },
          "execution_count": 4,
          "metadata": {},
          "output_type": "execute_result"
        }
      ],
      "source": [
        "df.shape"
      ]
    },
    {
      "cell_type": "code",
      "execution_count": 5,
      "metadata": {
        "colab": {
          "base_uri": "https://localhost:8080/"
        },
        "id": "6F-JJnheRU52",
        "outputId": "aa31be8c-a29d-44d3-97c8-be246dcb5da5"
      },
      "outputs": [
        {
          "data": {
            "text/plain": [
              "4862"
            ]
          },
          "execution_count": 5,
          "metadata": {},
          "output_type": "execute_result"
        }
      ],
      "source": [
        "df.size"
      ]
    },
    {
      "cell_type": "code",
      "execution_count": 6,
      "metadata": {
        "colab": {
          "base_uri": "https://localhost:8080/"
        },
        "id": "bpMT2OfGRU53",
        "outputId": "0a205c5d-6438-4772-aeda-81c34b7c0f94"
      },
      "outputs": [
        {
          "name": "stdout",
          "output_type": "stream",
          "text": [
            "<class 'pandas.core.frame.DataFrame'>\n",
            "RangeIndex: 374 entries, 0 to 373\n",
            "Data columns (total 13 columns):\n",
            " #   Column                   Non-Null Count  Dtype  \n",
            "---  ------                   --------------  -----  \n",
            " 0   Person ID                374 non-null    int64  \n",
            " 1   Gender                   374 non-null    object \n",
            " 2   Age                      374 non-null    int64  \n",
            " 3   Occupation               374 non-null    object \n",
            " 4   Sleep Duration           374 non-null    float64\n",
            " 5   Quality of Sleep         374 non-null    int64  \n",
            " 6   Physical Activity Level  374 non-null    int64  \n",
            " 7   Stress Level             374 non-null    int64  \n",
            " 8   BMI Category             374 non-null    object \n",
            " 9   Blood Pressure           374 non-null    object \n",
            " 10  Heart Rate               374 non-null    int64  \n",
            " 11  Daily Steps              374 non-null    int64  \n",
            " 12  Sleep Disorder           155 non-null    object \n",
            "dtypes: float64(1), int64(7), object(5)\n",
            "memory usage: 38.1+ KB\n"
          ]
        }
      ],
      "source": [
        "df.info()"
      ]
    },
    {
      "cell_type": "code",
      "execution_count": 7,
      "metadata": {
        "colab": {
          "base_uri": "https://localhost:8080/"
        },
        "id": "BYBohTZrRU53",
        "outputId": "ca635056-b1c6-46ad-c0e8-460e00003b87"
      },
      "outputs": [
        {
          "data": {
            "text/plain": [
              "Person ID                    0\n",
              "Gender                       0\n",
              "Age                          0\n",
              "Occupation                   0\n",
              "Sleep Duration               0\n",
              "Quality of Sleep             0\n",
              "Physical Activity Level      0\n",
              "Stress Level                 0\n",
              "BMI Category                 0\n",
              "Blood Pressure               0\n",
              "Heart Rate                   0\n",
              "Daily Steps                  0\n",
              "Sleep Disorder             219\n",
              "dtype: int64"
            ]
          },
          "execution_count": 7,
          "metadata": {},
          "output_type": "execute_result"
        }
      ],
      "source": [
        "df.isnull().sum()"
      ]
    },
    {
      "cell_type": "code",
      "execution_count": 8,
      "metadata": {
        "colab": {
          "base_uri": "https://localhost:8080/"
        },
        "id": "eCYEEqlwRU53",
        "outputId": "bb53d764-956d-4843-995c-12cbbfb76518"
      },
      "outputs": [
        {
          "data": {
            "text/plain": [
              "Person ID                  374\n",
              "Gender                       2\n",
              "Age                         31\n",
              "Occupation                  11\n",
              "Sleep Duration              27\n",
              "Quality of Sleep             6\n",
              "Physical Activity Level     16\n",
              "Stress Level                 6\n",
              "BMI Category                 4\n",
              "Blood Pressure              25\n",
              "Heart Rate                  19\n",
              "Daily Steps                 20\n",
              "Sleep Disorder               2\n",
              "dtype: int64"
            ]
          },
          "execution_count": 8,
          "metadata": {},
          "output_type": "execute_result"
        }
      ],
      "source": [
        "df.nunique()"
      ]
    },
    {
      "cell_type": "code",
      "execution_count": 9,
      "metadata": {
        "colab": {
          "base_uri": "https://localhost:8080/"
        },
        "id": "uqtNNNErRU53",
        "outputId": "8b8e9eb7-5d71-4e19-ddcb-ce5549b1c6ab"
      },
      "outputs": [
        {
          "data": {
            "text/plain": [
              "Person ID                    int64\n",
              "Gender                      object\n",
              "Age                          int64\n",
              "Occupation                  object\n",
              "Sleep Duration             float64\n",
              "Quality of Sleep             int64\n",
              "Physical Activity Level      int64\n",
              "Stress Level                 int64\n",
              "BMI Category                object\n",
              "Blood Pressure              object\n",
              "Heart Rate                   int64\n",
              "Daily Steps                  int64\n",
              "Sleep Disorder              object\n",
              "dtype: object"
            ]
          },
          "execution_count": 9,
          "metadata": {},
          "output_type": "execute_result"
        }
      ],
      "source": [
        "df.dtypes"
      ]
    },
    {
      "cell_type": "code",
      "execution_count": 10,
      "metadata": {
        "colab": {
          "base_uri": "https://localhost:8080/"
        },
        "id": "uEtRLraNRU54",
        "outputId": "ff5ef969-1bdf-410e-a90c-f2f2abc4393f"
      },
      "outputs": [
        {
          "data": {
            "text/plain": [
              "Sleep Disorder\n",
              "Sleep Apnea    78\n",
              "Insomnia       77\n",
              "Name: count, dtype: int64"
            ]
          },
          "execution_count": 10,
          "metadata": {},
          "output_type": "execute_result"
        }
      ],
      "source": [
        "df['Sleep Disorder'].value_counts()"
      ]
    },
    {
      "cell_type": "code",
      "execution_count": 12,
      "metadata": {
        "colab": {
          "base_uri": "https://localhost:8080/",
          "height": 387
        },
        "id": "BwpnUpoIRU54",
        "outputId": "e0112ab1-5be7-4614-bd97-8e23a689c29b"
      },
      "outputs": [
        {
          "data": {
            "text/html": [
              "<div>\n",
              "<style scoped>\n",
              "    .dataframe tbody tr th:only-of-type {\n",
              "        vertical-align: middle;\n",
              "    }\n",
              "\n",
              "    .dataframe tbody tr th {\n",
              "        vertical-align: top;\n",
              "    }\n",
              "\n",
              "    .dataframe thead th {\n",
              "        text-align: right;\n",
              "    }\n",
              "</style>\n",
              "<table border=\"1\" class=\"dataframe\">\n",
              "  <thead>\n",
              "    <tr style=\"text-align: right;\">\n",
              "      <th></th>\n",
              "      <th>count</th>\n",
              "      <th>mean</th>\n",
              "      <th>std</th>\n",
              "      <th>min</th>\n",
              "      <th>25%</th>\n",
              "      <th>50%</th>\n",
              "      <th>75%</th>\n",
              "      <th>max</th>\n",
              "    </tr>\n",
              "  </thead>\n",
              "  <tbody>\n",
              "    <tr>\n",
              "      <th>Person ID</th>\n",
              "      <td>374.0</td>\n",
              "      <td>187.500000</td>\n",
              "      <td>108.108742</td>\n",
              "      <td>1.0</td>\n",
              "      <td>94.25</td>\n",
              "      <td>187.5</td>\n",
              "      <td>280.75</td>\n",
              "      <td>374.0</td>\n",
              "    </tr>\n",
              "    <tr>\n",
              "      <th>Age</th>\n",
              "      <td>374.0</td>\n",
              "      <td>42.184492</td>\n",
              "      <td>8.673133</td>\n",
              "      <td>27.0</td>\n",
              "      <td>35.25</td>\n",
              "      <td>43.0</td>\n",
              "      <td>50.00</td>\n",
              "      <td>59.0</td>\n",
              "    </tr>\n",
              "    <tr>\n",
              "      <th>Sleep Duration</th>\n",
              "      <td>374.0</td>\n",
              "      <td>7.132086</td>\n",
              "      <td>0.795657</td>\n",
              "      <td>5.8</td>\n",
              "      <td>6.40</td>\n",
              "      <td>7.2</td>\n",
              "      <td>7.80</td>\n",
              "      <td>8.5</td>\n",
              "    </tr>\n",
              "    <tr>\n",
              "      <th>Quality of Sleep</th>\n",
              "      <td>374.0</td>\n",
              "      <td>7.312834</td>\n",
              "      <td>1.196956</td>\n",
              "      <td>4.0</td>\n",
              "      <td>6.00</td>\n",
              "      <td>7.0</td>\n",
              "      <td>8.00</td>\n",
              "      <td>9.0</td>\n",
              "    </tr>\n",
              "    <tr>\n",
              "      <th>Physical Activity Level</th>\n",
              "      <td>374.0</td>\n",
              "      <td>59.171123</td>\n",
              "      <td>20.830804</td>\n",
              "      <td>30.0</td>\n",
              "      <td>45.00</td>\n",
              "      <td>60.0</td>\n",
              "      <td>75.00</td>\n",
              "      <td>90.0</td>\n",
              "    </tr>\n",
              "    <tr>\n",
              "      <th>Stress Level</th>\n",
              "      <td>374.0</td>\n",
              "      <td>5.385027</td>\n",
              "      <td>1.774526</td>\n",
              "      <td>3.0</td>\n",
              "      <td>4.00</td>\n",
              "      <td>5.0</td>\n",
              "      <td>7.00</td>\n",
              "      <td>8.0</td>\n",
              "    </tr>\n",
              "    <tr>\n",
              "      <th>Heart Rate</th>\n",
              "      <td>374.0</td>\n",
              "      <td>70.165775</td>\n",
              "      <td>4.135676</td>\n",
              "      <td>65.0</td>\n",
              "      <td>68.00</td>\n",
              "      <td>70.0</td>\n",
              "      <td>72.00</td>\n",
              "      <td>86.0</td>\n",
              "    </tr>\n",
              "    <tr>\n",
              "      <th>Daily Steps</th>\n",
              "      <td>374.0</td>\n",
              "      <td>6816.844920</td>\n",
              "      <td>1617.915679</td>\n",
              "      <td>3000.0</td>\n",
              "      <td>5600.00</td>\n",
              "      <td>7000.0</td>\n",
              "      <td>8000.00</td>\n",
              "      <td>10000.0</td>\n",
              "    </tr>\n",
              "  </tbody>\n",
              "</table>\n",
              "</div>"
            ],
            "text/plain": [
              "                         count         mean          std     min      25%  \\\n",
              "Person ID                374.0   187.500000   108.108742     1.0    94.25   \n",
              "Age                      374.0    42.184492     8.673133    27.0    35.25   \n",
              "Sleep Duration           374.0     7.132086     0.795657     5.8     6.40   \n",
              "Quality of Sleep         374.0     7.312834     1.196956     4.0     6.00   \n",
              "Physical Activity Level  374.0    59.171123    20.830804    30.0    45.00   \n",
              "Stress Level             374.0     5.385027     1.774526     3.0     4.00   \n",
              "Heart Rate               374.0    70.165775     4.135676    65.0    68.00   \n",
              "Daily Steps              374.0  6816.844920  1617.915679  3000.0  5600.00   \n",
              "\n",
              "                            50%      75%      max  \n",
              "Person ID                 187.5   280.75    374.0  \n",
              "Age                        43.0    50.00     59.0  \n",
              "Sleep Duration              7.2     7.80      8.5  \n",
              "Quality of Sleep            7.0     8.00      9.0  \n",
              "Physical Activity Level    60.0    75.00     90.0  \n",
              "Stress Level                5.0     7.00      8.0  \n",
              "Heart Rate                 70.0    72.00     86.0  \n",
              "Daily Steps              7000.0  8000.00  10000.0  "
            ]
          },
          "execution_count": 12,
          "metadata": {},
          "output_type": "execute_result"
        }
      ],
      "source": [
        "df.describe().T"
      ]
    },
    {
      "cell_type": "markdown",
      "metadata": {
        "id": "OAT4bp01RU54"
      },
      "source": [
        "# Cleaning Data"
      ]
    },
    {
      "cell_type": "code",
      "execution_count": 13,
      "metadata": {
        "colab": {
          "base_uri": "https://localhost:8080/",
          "height": 313
        },
        "id": "EjFZS0HHRU54",
        "outputId": "b002b206-2fda-4515-b52a-faa8b78aa30c"
      },
      "outputs": [
        {
          "data": {
            "text/html": [
              "<div>\n",
              "<style scoped>\n",
              "    .dataframe tbody tr th:only-of-type {\n",
              "        vertical-align: middle;\n",
              "    }\n",
              "\n",
              "    .dataframe tbody tr th {\n",
              "        vertical-align: top;\n",
              "    }\n",
              "\n",
              "    .dataframe thead th {\n",
              "        text-align: right;\n",
              "    }\n",
              "</style>\n",
              "<table border=\"1\" class=\"dataframe\">\n",
              "  <thead>\n",
              "    <tr style=\"text-align: right;\">\n",
              "      <th></th>\n",
              "      <th>Person ID</th>\n",
              "      <th>Gender</th>\n",
              "      <th>Age</th>\n",
              "      <th>Occupation</th>\n",
              "      <th>Sleep Duration</th>\n",
              "      <th>Quality of Sleep</th>\n",
              "      <th>Physical Activity Level</th>\n",
              "      <th>Stress Level</th>\n",
              "      <th>BMI Category</th>\n",
              "      <th>Blood Pressure</th>\n",
              "      <th>Heart Rate</th>\n",
              "      <th>Daily Steps</th>\n",
              "      <th>Sleep Disorder</th>\n",
              "    </tr>\n",
              "  </thead>\n",
              "  <tbody>\n",
              "    <tr>\n",
              "      <th>0</th>\n",
              "      <td>1</td>\n",
              "      <td>Male</td>\n",
              "      <td>27</td>\n",
              "      <td>Software Engineer</td>\n",
              "      <td>6.1</td>\n",
              "      <td>6</td>\n",
              "      <td>42</td>\n",
              "      <td>6</td>\n",
              "      <td>Overweight</td>\n",
              "      <td>126/83</td>\n",
              "      <td>77</td>\n",
              "      <td>4200</td>\n",
              "      <td>None</td>\n",
              "    </tr>\n",
              "    <tr>\n",
              "      <th>1</th>\n",
              "      <td>2</td>\n",
              "      <td>Male</td>\n",
              "      <td>28</td>\n",
              "      <td>Doctor</td>\n",
              "      <td>6.2</td>\n",
              "      <td>6</td>\n",
              "      <td>60</td>\n",
              "      <td>8</td>\n",
              "      <td>Normal</td>\n",
              "      <td>125/80</td>\n",
              "      <td>75</td>\n",
              "      <td>10000</td>\n",
              "      <td>None</td>\n",
              "    </tr>\n",
              "    <tr>\n",
              "      <th>2</th>\n",
              "      <td>3</td>\n",
              "      <td>Male</td>\n",
              "      <td>28</td>\n",
              "      <td>Doctor</td>\n",
              "      <td>6.2</td>\n",
              "      <td>6</td>\n",
              "      <td>60</td>\n",
              "      <td>8</td>\n",
              "      <td>Normal</td>\n",
              "      <td>125/80</td>\n",
              "      <td>75</td>\n",
              "      <td>10000</td>\n",
              "      <td>None</td>\n",
              "    </tr>\n",
              "    <tr>\n",
              "      <th>3</th>\n",
              "      <td>4</td>\n",
              "      <td>Male</td>\n",
              "      <td>28</td>\n",
              "      <td>Sales Representative</td>\n",
              "      <td>5.9</td>\n",
              "      <td>4</td>\n",
              "      <td>30</td>\n",
              "      <td>8</td>\n",
              "      <td>Obese</td>\n",
              "      <td>140/90</td>\n",
              "      <td>85</td>\n",
              "      <td>3000</td>\n",
              "      <td>Sleep Apnea</td>\n",
              "    </tr>\n",
              "    <tr>\n",
              "      <th>4</th>\n",
              "      <td>5</td>\n",
              "      <td>Male</td>\n",
              "      <td>28</td>\n",
              "      <td>Sales Representative</td>\n",
              "      <td>5.9</td>\n",
              "      <td>4</td>\n",
              "      <td>30</td>\n",
              "      <td>8</td>\n",
              "      <td>Obese</td>\n",
              "      <td>140/90</td>\n",
              "      <td>85</td>\n",
              "      <td>3000</td>\n",
              "      <td>Sleep Apnea</td>\n",
              "    </tr>\n",
              "  </tbody>\n",
              "</table>\n",
              "</div>"
            ],
            "text/plain": [
              "   Person ID Gender  Age            Occupation  Sleep Duration  \\\n",
              "0          1   Male   27     Software Engineer             6.1   \n",
              "1          2   Male   28                Doctor             6.2   \n",
              "2          3   Male   28                Doctor             6.2   \n",
              "3          4   Male   28  Sales Representative             5.9   \n",
              "4          5   Male   28  Sales Representative             5.9   \n",
              "\n",
              "   Quality of Sleep  Physical Activity Level  Stress Level BMI Category  \\\n",
              "0                 6                       42             6   Overweight   \n",
              "1                 6                       60             8       Normal   \n",
              "2                 6                       60             8       Normal   \n",
              "3                 4                       30             8        Obese   \n",
              "4                 4                       30             8        Obese   \n",
              "\n",
              "  Blood Pressure  Heart Rate  Daily Steps Sleep Disorder  \n",
              "0         126/83          77         4200           None  \n",
              "1         125/80          75        10000           None  \n",
              "2         125/80          75        10000           None  \n",
              "3         140/90          85         3000    Sleep Apnea  \n",
              "4         140/90          85         3000    Sleep Apnea  "
            ]
          },
          "execution_count": 13,
          "metadata": {},
          "output_type": "execute_result"
        }
      ],
      "source": [
        "df['Sleep Disorder'] = df['Sleep Disorder'].fillna('None')\n",
        "df.head(5)"
      ]
    },
    {
      "cell_type": "code",
      "execution_count": 14,
      "metadata": {
        "colab": {
          "base_uri": "https://localhost:8080/"
        },
        "id": "JfPWO8ZZRU54",
        "outputId": "ac788f9f-5bd5-4ebc-8f57-c64015e6f037"
      },
      "outputs": [
        {
          "data": {
            "text/plain": [
              "0"
            ]
          },
          "execution_count": 14,
          "metadata": {},
          "output_type": "execute_result"
        }
      ],
      "source": [
        "df.duplicated().sum()"
      ]
    },
    {
      "cell_type": "code",
      "execution_count": 15,
      "metadata": {
        "colab": {
          "base_uri": "https://localhost:8080/",
          "height": 617
        },
        "id": "zyhI1rcwRU55",
        "outputId": "708c2896-99df-4de9-ea93-5f64a33bc174"
      },
      "outputs": [
        {
          "data": {
            "text/html": [
              "<div>\n",
              "<style scoped>\n",
              "    .dataframe tbody tr th:only-of-type {\n",
              "        vertical-align: middle;\n",
              "    }\n",
              "\n",
              "    .dataframe tbody tr th {\n",
              "        vertical-align: top;\n",
              "    }\n",
              "\n",
              "    .dataframe thead th {\n",
              "        text-align: right;\n",
              "    }\n",
              "</style>\n",
              "<table border=\"1\" class=\"dataframe\">\n",
              "  <thead>\n",
              "    <tr style=\"text-align: right;\">\n",
              "      <th></th>\n",
              "      <th>Person ID</th>\n",
              "      <th>Gender</th>\n",
              "      <th>Age</th>\n",
              "      <th>Occupation</th>\n",
              "      <th>Sleep Duration</th>\n",
              "      <th>Quality of Sleep</th>\n",
              "      <th>Physical Activity Level</th>\n",
              "      <th>Stress Level</th>\n",
              "      <th>BMI Category</th>\n",
              "      <th>Blood Pressure</th>\n",
              "      <th>Heart Rate</th>\n",
              "      <th>Daily Steps</th>\n",
              "      <th>Sleep Disorder</th>\n",
              "    </tr>\n",
              "  </thead>\n",
              "  <tbody>\n",
              "    <tr>\n",
              "      <th>0</th>\n",
              "      <td>1</td>\n",
              "      <td>Male</td>\n",
              "      <td>27</td>\n",
              "      <td>Software Engineer</td>\n",
              "      <td>6.1</td>\n",
              "      <td>6</td>\n",
              "      <td>42</td>\n",
              "      <td>6</td>\n",
              "      <td>Overweight</td>\n",
              "      <td>126/83</td>\n",
              "      <td>77</td>\n",
              "      <td>4200</td>\n",
              "      <td>None</td>\n",
              "    </tr>\n",
              "    <tr>\n",
              "      <th>1</th>\n",
              "      <td>2</td>\n",
              "      <td>Male</td>\n",
              "      <td>28</td>\n",
              "      <td>Doctor</td>\n",
              "      <td>6.2</td>\n",
              "      <td>6</td>\n",
              "      <td>60</td>\n",
              "      <td>8</td>\n",
              "      <td>Normal</td>\n",
              "      <td>125/80</td>\n",
              "      <td>75</td>\n",
              "      <td>10000</td>\n",
              "      <td>None</td>\n",
              "    </tr>\n",
              "    <tr>\n",
              "      <th>2</th>\n",
              "      <td>3</td>\n",
              "      <td>Male</td>\n",
              "      <td>28</td>\n",
              "      <td>Doctor</td>\n",
              "      <td>6.2</td>\n",
              "      <td>6</td>\n",
              "      <td>60</td>\n",
              "      <td>8</td>\n",
              "      <td>Normal</td>\n",
              "      <td>125/80</td>\n",
              "      <td>75</td>\n",
              "      <td>10000</td>\n",
              "      <td>None</td>\n",
              "    </tr>\n",
              "    <tr>\n",
              "      <th>3</th>\n",
              "      <td>4</td>\n",
              "      <td>Male</td>\n",
              "      <td>28</td>\n",
              "      <td>Sales Representative</td>\n",
              "      <td>5.9</td>\n",
              "      <td>4</td>\n",
              "      <td>30</td>\n",
              "      <td>8</td>\n",
              "      <td>Obese</td>\n",
              "      <td>140/90</td>\n",
              "      <td>85</td>\n",
              "      <td>3000</td>\n",
              "      <td>Sleep Apnea</td>\n",
              "    </tr>\n",
              "    <tr>\n",
              "      <th>4</th>\n",
              "      <td>5</td>\n",
              "      <td>Male</td>\n",
              "      <td>28</td>\n",
              "      <td>Sales Representative</td>\n",
              "      <td>5.9</td>\n",
              "      <td>4</td>\n",
              "      <td>30</td>\n",
              "      <td>8</td>\n",
              "      <td>Obese</td>\n",
              "      <td>140/90</td>\n",
              "      <td>85</td>\n",
              "      <td>3000</td>\n",
              "      <td>Sleep Apnea</td>\n",
              "    </tr>\n",
              "    <tr>\n",
              "      <th>...</th>\n",
              "      <td>...</td>\n",
              "      <td>...</td>\n",
              "      <td>...</td>\n",
              "      <td>...</td>\n",
              "      <td>...</td>\n",
              "      <td>...</td>\n",
              "      <td>...</td>\n",
              "      <td>...</td>\n",
              "      <td>...</td>\n",
              "      <td>...</td>\n",
              "      <td>...</td>\n",
              "      <td>...</td>\n",
              "      <td>...</td>\n",
              "    </tr>\n",
              "    <tr>\n",
              "      <th>369</th>\n",
              "      <td>370</td>\n",
              "      <td>Female</td>\n",
              "      <td>59</td>\n",
              "      <td>Nurse</td>\n",
              "      <td>8.1</td>\n",
              "      <td>9</td>\n",
              "      <td>75</td>\n",
              "      <td>3</td>\n",
              "      <td>Overweight</td>\n",
              "      <td>140/95</td>\n",
              "      <td>68</td>\n",
              "      <td>7000</td>\n",
              "      <td>Sleep Apnea</td>\n",
              "    </tr>\n",
              "    <tr>\n",
              "      <th>370</th>\n",
              "      <td>371</td>\n",
              "      <td>Female</td>\n",
              "      <td>59</td>\n",
              "      <td>Nurse</td>\n",
              "      <td>8.0</td>\n",
              "      <td>9</td>\n",
              "      <td>75</td>\n",
              "      <td>3</td>\n",
              "      <td>Overweight</td>\n",
              "      <td>140/95</td>\n",
              "      <td>68</td>\n",
              "      <td>7000</td>\n",
              "      <td>Sleep Apnea</td>\n",
              "    </tr>\n",
              "    <tr>\n",
              "      <th>371</th>\n",
              "      <td>372</td>\n",
              "      <td>Female</td>\n",
              "      <td>59</td>\n",
              "      <td>Nurse</td>\n",
              "      <td>8.1</td>\n",
              "      <td>9</td>\n",
              "      <td>75</td>\n",
              "      <td>3</td>\n",
              "      <td>Overweight</td>\n",
              "      <td>140/95</td>\n",
              "      <td>68</td>\n",
              "      <td>7000</td>\n",
              "      <td>Sleep Apnea</td>\n",
              "    </tr>\n",
              "    <tr>\n",
              "      <th>372</th>\n",
              "      <td>373</td>\n",
              "      <td>Female</td>\n",
              "      <td>59</td>\n",
              "      <td>Nurse</td>\n",
              "      <td>8.1</td>\n",
              "      <td>9</td>\n",
              "      <td>75</td>\n",
              "      <td>3</td>\n",
              "      <td>Overweight</td>\n",
              "      <td>140/95</td>\n",
              "      <td>68</td>\n",
              "      <td>7000</td>\n",
              "      <td>Sleep Apnea</td>\n",
              "    </tr>\n",
              "    <tr>\n",
              "      <th>373</th>\n",
              "      <td>374</td>\n",
              "      <td>Female</td>\n",
              "      <td>59</td>\n",
              "      <td>Nurse</td>\n",
              "      <td>8.1</td>\n",
              "      <td>9</td>\n",
              "      <td>75</td>\n",
              "      <td>3</td>\n",
              "      <td>Overweight</td>\n",
              "      <td>140/95</td>\n",
              "      <td>68</td>\n",
              "      <td>7000</td>\n",
              "      <td>Sleep Apnea</td>\n",
              "    </tr>\n",
              "  </tbody>\n",
              "</table>\n",
              "<p>374 rows × 13 columns</p>\n",
              "</div>"
            ],
            "text/plain": [
              "     Person ID  Gender  Age            Occupation  Sleep Duration  \\\n",
              "0            1    Male   27     Software Engineer             6.1   \n",
              "1            2    Male   28                Doctor             6.2   \n",
              "2            3    Male   28                Doctor             6.2   \n",
              "3            4    Male   28  Sales Representative             5.9   \n",
              "4            5    Male   28  Sales Representative             5.9   \n",
              "..         ...     ...  ...                   ...             ...   \n",
              "369        370  Female   59                 Nurse             8.1   \n",
              "370        371  Female   59                 Nurse             8.0   \n",
              "371        372  Female   59                 Nurse             8.1   \n",
              "372        373  Female   59                 Nurse             8.1   \n",
              "373        374  Female   59                 Nurse             8.1   \n",
              "\n",
              "     Quality of Sleep  Physical Activity Level  Stress Level BMI Category  \\\n",
              "0                   6                       42             6   Overweight   \n",
              "1                   6                       60             8       Normal   \n",
              "2                   6                       60             8       Normal   \n",
              "3                   4                       30             8        Obese   \n",
              "4                   4                       30             8        Obese   \n",
              "..                ...                      ...           ...          ...   \n",
              "369                 9                       75             3   Overweight   \n",
              "370                 9                       75             3   Overweight   \n",
              "371                 9                       75             3   Overweight   \n",
              "372                 9                       75             3   Overweight   \n",
              "373                 9                       75             3   Overweight   \n",
              "\n",
              "    Blood Pressure  Heart Rate  Daily Steps Sleep Disorder  \n",
              "0           126/83          77         4200           None  \n",
              "1           125/80          75        10000           None  \n",
              "2           125/80          75        10000           None  \n",
              "3           140/90          85         3000    Sleep Apnea  \n",
              "4           140/90          85         3000    Sleep Apnea  \n",
              "..             ...         ...          ...            ...  \n",
              "369         140/95          68         7000    Sleep Apnea  \n",
              "370         140/95          68         7000    Sleep Apnea  \n",
              "371         140/95          68         7000    Sleep Apnea  \n",
              "372         140/95          68         7000    Sleep Apnea  \n",
              "373         140/95          68         7000    Sleep Apnea  \n",
              "\n",
              "[374 rows x 13 columns]"
            ]
          },
          "execution_count": 15,
          "metadata": {},
          "output_type": "execute_result"
        }
      ],
      "source": [
        "# Remove duplicates (just in case)\n",
        "df.drop_duplicates()"
      ]
    },
    {
      "cell_type": "code",
      "execution_count": 16,
      "metadata": {
        "colab": {
          "base_uri": "https://localhost:8080/"
        },
        "id": "9cb2p7swRU55",
        "outputId": "16cb974a-9a28-4736-a2f5-663a601f7e3b"
      },
      "outputs": [
        {
          "data": {
            "text/plain": [
              "Index(['Person ID', 'Gender', 'Age', 'Occupation', 'Sleep Duration',\n",
              "       'Quality of Sleep', 'Physical Activity Level', 'Stress Level',\n",
              "       'BMI Category', 'Blood Pressure', 'Heart Rate', 'Daily Steps',\n",
              "       'Sleep Disorder'],\n",
              "      dtype='object')"
            ]
          },
          "execution_count": 16,
          "metadata": {},
          "output_type": "execute_result"
        }
      ],
      "source": [
        "df.columns"
      ]
    },
    {
      "cell_type": "markdown",
      "metadata": {
        "id": "3mrpTvJ6RU55"
      },
      "source": [
        "## Spliting Blood Pressure"
      ]
    },
    {
      "cell_type": "code",
      "execution_count": 17,
      "metadata": {
        "colab": {
          "base_uri": "https://localhost:8080/",
          "height": 313
        },
        "id": "Gq07H76ARU55",
        "outputId": "6a2596a1-3e65-45cd-eb5a-3ec648f1e9f4"
      },
      "outputs": [
        {
          "data": {
            "text/html": [
              "<div>\n",
              "<style scoped>\n",
              "    .dataframe tbody tr th:only-of-type {\n",
              "        vertical-align: middle;\n",
              "    }\n",
              "\n",
              "    .dataframe tbody tr th {\n",
              "        vertical-align: top;\n",
              "    }\n",
              "\n",
              "    .dataframe thead th {\n",
              "        text-align: right;\n",
              "    }\n",
              "</style>\n",
              "<table border=\"1\" class=\"dataframe\">\n",
              "  <thead>\n",
              "    <tr style=\"text-align: right;\">\n",
              "      <th></th>\n",
              "      <th>Person ID</th>\n",
              "      <th>Gender</th>\n",
              "      <th>Age</th>\n",
              "      <th>Occupation</th>\n",
              "      <th>Sleep Duration</th>\n",
              "      <th>Quality of Sleep</th>\n",
              "      <th>Physical Activity Level</th>\n",
              "      <th>Stress Level</th>\n",
              "      <th>BMI Category</th>\n",
              "      <th>Heart Rate</th>\n",
              "      <th>Daily Steps</th>\n",
              "      <th>Sleep Disorder</th>\n",
              "      <th>Systolic BP</th>\n",
              "      <th>Diastolic BP</th>\n",
              "    </tr>\n",
              "  </thead>\n",
              "  <tbody>\n",
              "    <tr>\n",
              "      <th>0</th>\n",
              "      <td>1</td>\n",
              "      <td>Male</td>\n",
              "      <td>27</td>\n",
              "      <td>Software Engineer</td>\n",
              "      <td>6.1</td>\n",
              "      <td>6</td>\n",
              "      <td>42</td>\n",
              "      <td>6</td>\n",
              "      <td>Overweight</td>\n",
              "      <td>77</td>\n",
              "      <td>4200</td>\n",
              "      <td>None</td>\n",
              "      <td>126</td>\n",
              "      <td>83</td>\n",
              "    </tr>\n",
              "    <tr>\n",
              "      <th>1</th>\n",
              "      <td>2</td>\n",
              "      <td>Male</td>\n",
              "      <td>28</td>\n",
              "      <td>Doctor</td>\n",
              "      <td>6.2</td>\n",
              "      <td>6</td>\n",
              "      <td>60</td>\n",
              "      <td>8</td>\n",
              "      <td>Normal</td>\n",
              "      <td>75</td>\n",
              "      <td>10000</td>\n",
              "      <td>None</td>\n",
              "      <td>125</td>\n",
              "      <td>80</td>\n",
              "    </tr>\n",
              "    <tr>\n",
              "      <th>2</th>\n",
              "      <td>3</td>\n",
              "      <td>Male</td>\n",
              "      <td>28</td>\n",
              "      <td>Doctor</td>\n",
              "      <td>6.2</td>\n",
              "      <td>6</td>\n",
              "      <td>60</td>\n",
              "      <td>8</td>\n",
              "      <td>Normal</td>\n",
              "      <td>75</td>\n",
              "      <td>10000</td>\n",
              "      <td>None</td>\n",
              "      <td>125</td>\n",
              "      <td>80</td>\n",
              "    </tr>\n",
              "    <tr>\n",
              "      <th>3</th>\n",
              "      <td>4</td>\n",
              "      <td>Male</td>\n",
              "      <td>28</td>\n",
              "      <td>Sales Representative</td>\n",
              "      <td>5.9</td>\n",
              "      <td>4</td>\n",
              "      <td>30</td>\n",
              "      <td>8</td>\n",
              "      <td>Obese</td>\n",
              "      <td>85</td>\n",
              "      <td>3000</td>\n",
              "      <td>Sleep Apnea</td>\n",
              "      <td>140</td>\n",
              "      <td>90</td>\n",
              "    </tr>\n",
              "    <tr>\n",
              "      <th>4</th>\n",
              "      <td>5</td>\n",
              "      <td>Male</td>\n",
              "      <td>28</td>\n",
              "      <td>Sales Representative</td>\n",
              "      <td>5.9</td>\n",
              "      <td>4</td>\n",
              "      <td>30</td>\n",
              "      <td>8</td>\n",
              "      <td>Obese</td>\n",
              "      <td>85</td>\n",
              "      <td>3000</td>\n",
              "      <td>Sleep Apnea</td>\n",
              "      <td>140</td>\n",
              "      <td>90</td>\n",
              "    </tr>\n",
              "  </tbody>\n",
              "</table>\n",
              "</div>"
            ],
            "text/plain": [
              "   Person ID Gender  Age            Occupation  Sleep Duration  \\\n",
              "0          1   Male   27     Software Engineer             6.1   \n",
              "1          2   Male   28                Doctor             6.2   \n",
              "2          3   Male   28                Doctor             6.2   \n",
              "3          4   Male   28  Sales Representative             5.9   \n",
              "4          5   Male   28  Sales Representative             5.9   \n",
              "\n",
              "   Quality of Sleep  Physical Activity Level  Stress Level BMI Category  \\\n",
              "0                 6                       42             6   Overweight   \n",
              "1                 6                       60             8       Normal   \n",
              "2                 6                       60             8       Normal   \n",
              "3                 4                       30             8        Obese   \n",
              "4                 4                       30             8        Obese   \n",
              "\n",
              "   Heart Rate  Daily Steps Sleep Disorder  Systolic BP  Diastolic BP  \n",
              "0          77         4200           None          126            83  \n",
              "1          75        10000           None          125            80  \n",
              "2          75        10000           None          125            80  \n",
              "3          85         3000    Sleep Apnea          140            90  \n",
              "4          85         3000    Sleep Apnea          140            90  "
            ]
          },
          "execution_count": 17,
          "metadata": {},
          "output_type": "execute_result"
        }
      ],
      "source": [
        "# Split Blood Pressure into Systolic BP and Diastolic BP\n",
        "df[['Systolic BP', 'Diastolic BP']] = df['Blood Pressure'].str.split('/', expand=True)\n",
        "df.drop(columns=['Blood Pressure'], inplace=True)\n",
        "\n",
        "df['Systolic BP'] = pd.to_numeric(df['Systolic BP'])\n",
        "df['Diastolic BP'] = pd.to_numeric(df['Diastolic BP'])\n",
        "df.head()\n"
      ]
    },
    {
      "cell_type": "markdown",
      "metadata": {
        "id": "It7JBLvhRU55"
      },
      "source": [
        "## Categorical Variables"
      ]
    },
    {
      "cell_type": "code",
      "execution_count": 18,
      "metadata": {
        "id": "Wsftib5FRU55"
      },
      "outputs": [],
      "source": [
        "# Encoding categorical variables\n",
        "label_encoders = {}\n",
        "categorical_columns = ['Gender', 'Occupation', 'BMI Category', 'Sleep Disorder']\n",
        "\n",
        "for col in categorical_columns:\n",
        "    le = LabelEncoder()\n",
        "    df[col] = le.fit_transform(df[col])\n",
        "    label_encoders[col] = le\n",
        "\n"
      ]
    },
    {
      "cell_type": "code",
      "execution_count": 19,
      "metadata": {
        "colab": {
          "base_uri": "https://localhost:8080/",
          "height": 261
        },
        "id": "9If1u_NfRU55",
        "outputId": "93487641-e9f0-425a-ee11-640c47364e46"
      },
      "outputs": [
        {
          "data": {
            "text/html": [
              "<div>\n",
              "<style scoped>\n",
              "    .dataframe tbody tr th:only-of-type {\n",
              "        vertical-align: middle;\n",
              "    }\n",
              "\n",
              "    .dataframe tbody tr th {\n",
              "        vertical-align: top;\n",
              "    }\n",
              "\n",
              "    .dataframe thead th {\n",
              "        text-align: right;\n",
              "    }\n",
              "</style>\n",
              "<table border=\"1\" class=\"dataframe\">\n",
              "  <thead>\n",
              "    <tr style=\"text-align: right;\">\n",
              "      <th></th>\n",
              "      <th>Person ID</th>\n",
              "      <th>Gender</th>\n",
              "      <th>Age</th>\n",
              "      <th>Occupation</th>\n",
              "      <th>Sleep Duration</th>\n",
              "      <th>Quality of Sleep</th>\n",
              "      <th>Physical Activity Level</th>\n",
              "      <th>Stress Level</th>\n",
              "      <th>BMI Category</th>\n",
              "      <th>Heart Rate</th>\n",
              "      <th>Daily Steps</th>\n",
              "      <th>Sleep Disorder</th>\n",
              "      <th>Systolic BP</th>\n",
              "      <th>Diastolic BP</th>\n",
              "    </tr>\n",
              "  </thead>\n",
              "  <tbody>\n",
              "    <tr>\n",
              "      <th>0</th>\n",
              "      <td>1</td>\n",
              "      <td>1</td>\n",
              "      <td>27</td>\n",
              "      <td>9</td>\n",
              "      <td>6.1</td>\n",
              "      <td>6</td>\n",
              "      <td>42</td>\n",
              "      <td>6</td>\n",
              "      <td>3</td>\n",
              "      <td>77</td>\n",
              "      <td>4200</td>\n",
              "      <td>1</td>\n",
              "      <td>126</td>\n",
              "      <td>83</td>\n",
              "    </tr>\n",
              "    <tr>\n",
              "      <th>1</th>\n",
              "      <td>2</td>\n",
              "      <td>1</td>\n",
              "      <td>28</td>\n",
              "      <td>1</td>\n",
              "      <td>6.2</td>\n",
              "      <td>6</td>\n",
              "      <td>60</td>\n",
              "      <td>8</td>\n",
              "      <td>0</td>\n",
              "      <td>75</td>\n",
              "      <td>10000</td>\n",
              "      <td>1</td>\n",
              "      <td>125</td>\n",
              "      <td>80</td>\n",
              "    </tr>\n",
              "    <tr>\n",
              "      <th>2</th>\n",
              "      <td>3</td>\n",
              "      <td>1</td>\n",
              "      <td>28</td>\n",
              "      <td>1</td>\n",
              "      <td>6.2</td>\n",
              "      <td>6</td>\n",
              "      <td>60</td>\n",
              "      <td>8</td>\n",
              "      <td>0</td>\n",
              "      <td>75</td>\n",
              "      <td>10000</td>\n",
              "      <td>1</td>\n",
              "      <td>125</td>\n",
              "      <td>80</td>\n",
              "    </tr>\n",
              "    <tr>\n",
              "      <th>3</th>\n",
              "      <td>4</td>\n",
              "      <td>1</td>\n",
              "      <td>28</td>\n",
              "      <td>6</td>\n",
              "      <td>5.9</td>\n",
              "      <td>4</td>\n",
              "      <td>30</td>\n",
              "      <td>8</td>\n",
              "      <td>2</td>\n",
              "      <td>85</td>\n",
              "      <td>3000</td>\n",
              "      <td>2</td>\n",
              "      <td>140</td>\n",
              "      <td>90</td>\n",
              "    </tr>\n",
              "    <tr>\n",
              "      <th>4</th>\n",
              "      <td>5</td>\n",
              "      <td>1</td>\n",
              "      <td>28</td>\n",
              "      <td>6</td>\n",
              "      <td>5.9</td>\n",
              "      <td>4</td>\n",
              "      <td>30</td>\n",
              "      <td>8</td>\n",
              "      <td>2</td>\n",
              "      <td>85</td>\n",
              "      <td>3000</td>\n",
              "      <td>2</td>\n",
              "      <td>140</td>\n",
              "      <td>90</td>\n",
              "    </tr>\n",
              "  </tbody>\n",
              "</table>\n",
              "</div>"
            ],
            "text/plain": [
              "   Person ID  Gender  Age  Occupation  Sleep Duration  Quality of Sleep  \\\n",
              "0          1       1   27           9             6.1                 6   \n",
              "1          2       1   28           1             6.2                 6   \n",
              "2          3       1   28           1             6.2                 6   \n",
              "3          4       1   28           6             5.9                 4   \n",
              "4          5       1   28           6             5.9                 4   \n",
              "\n",
              "   Physical Activity Level  Stress Level  BMI Category  Heart Rate  \\\n",
              "0                       42             6             3          77   \n",
              "1                       60             8             0          75   \n",
              "2                       60             8             0          75   \n",
              "3                       30             8             2          85   \n",
              "4                       30             8             2          85   \n",
              "\n",
              "   Daily Steps  Sleep Disorder  Systolic BP  Diastolic BP  \n",
              "0         4200               1          126            83  \n",
              "1        10000               1          125            80  \n",
              "2        10000               1          125            80  \n",
              "3         3000               2          140            90  \n",
              "4         3000               2          140            90  "
            ]
          },
          "execution_count": 19,
          "metadata": {},
          "output_type": "execute_result"
        }
      ],
      "source": [
        "# Convert categorical variables to numeric codes using Label Encoding\n",
        "df['Gender'] = df['Gender'].astype('category').cat.codes\n",
        "df['Occupation'] = df['Occupation'].astype('category').cat.codes\n",
        "df['BMI Category'] = df['BMI Category'].astype('category').cat.codes\n",
        "df['Sleep Disorder'] = df['Sleep Disorder'].astype('category').cat.codes\n",
        "df.head()\n"
      ]
    },
    {
      "cell_type": "markdown",
      "metadata": {
        "id": "OVLkOALdRU55"
      },
      "source": [
        "## Checking"
      ]
    },
    {
      "cell_type": "code",
      "execution_count": 20,
      "metadata": {
        "colab": {
          "base_uri": "https://localhost:8080/"
        },
        "id": "mtlICKiIRU55",
        "outputId": "06c0bb69-e844-4c01-9c2c-f2cf2ded7f59"
      },
      "outputs": [
        {
          "data": {
            "text/plain": [
              "(Person ID                  0\n",
              " Gender                     0\n",
              " Age                        0\n",
              " Occupation                 0\n",
              " Sleep Duration             0\n",
              " Quality of Sleep           0\n",
              " Physical Activity Level    0\n",
              " Stress Level               0\n",
              " BMI Category               0\n",
              " Heart Rate                 0\n",
              " Daily Steps                0\n",
              " Sleep Disorder             0\n",
              " Systolic BP                0\n",
              " Diastolic BP               0\n",
              " dtype: int64,\n",
              " 0)"
            ]
          },
          "execution_count": 20,
          "metadata": {},
          "output_type": "execute_result"
        }
      ],
      "source": [
        "# Checking for missing values and duplicates\n",
        "missing_data = df.isnull().sum()\n",
        "duplicates = df.duplicated().sum()\n",
        "\n",
        "missing_data, duplicates"
      ]
    },
    {
      "cell_type": "markdown",
      "metadata": {
        "id": "JRN0bKSzRU56"
      },
      "source": [
        "# Data Visualization  "
      ]
    },
    {
      "cell_type": "code",
      "execution_count": 21,
      "metadata": {
        "id": "Z-9C417URU56"
      },
      "outputs": [
        {
          "data": {
            "image/png": "[encoded data removed]",
            "text/plain": [
              "<Figure size 2000x1500 with 7 Axes>"
            ]
          },
          "metadata": {},
          "output_type": "display_data"
        }
      ],
      "source": [
        "# Set the aesthetic style of the plots\n",
        "sns.set_style(\"whitegrid\")\n",
        "\n",
        "# Prepare the figure\n",
        "plt.figure(figsize=(20, 15))\n",
        "\n",
        "# Histogram of Stress Levels\n",
        "plt.subplot(3, 2, 1)\n",
        "sns.histplot(df['Stress Level'], kde=False, bins=6, color='skyblue')\n",
        "plt.title('Histogram of Stress Levels')\n",
        "\n",
        "# Scatter plot of Stress Level vs. Quality of Sleep\n",
        "plt.subplot(3, 2, 2)\n",
        "sns.scatterplot(x='Quality of Sleep', y='Stress Level', data=df, color='green')\n",
        "plt.title('Stress Level vs. Quality of Sleep')\n",
        "\n",
        "# Scatter plot of Stress Level vs. Physical Activity Level\n",
        "plt.subplot(3, 2, 3)\n",
        "sns.scatterplot(x='Physical Activity Level', y='Stress Level', data=df, color='red')\n",
        "plt.title('Stress Level vs. Physical Activity Level')\n",
        "\n",
        "# Scatter plot of Stress Level vs. Sleep Duration\n",
        "plt.subplot(3, 2, 4)\n",
        "sns.scatterplot(x='Sleep Duration', y='Stress Level', data=df, color='blue')\n",
        "plt.title('Stress Level vs. Sleep Duration')\n",
        "\n",
        "# Boxplot of Stress Level by Gender\n",
        "plt.subplot(3, 2, 5)\n",
        "sns.boxplot(x='Gender', y='Stress Level', data=df)\n",
        "plt.title('Stress Level by Gender')\n",
        "\n",
        "# Correlation Heatmap\n",
        "plt.subplot(3, 2, 6)\n",
        "corr_matrix = df.corr()\n",
        "sns.heatmap(corr_matrix, annot=True, cmap='coolwarm')\n",
        "plt.title('Correlation Heatmap')\n",
        "\n",
        "# Show the plots\n",
        "plt.tight_layout()\n",
        "plt.show()"
      ]
    },
    {
      "cell_type": "markdown",
      "metadata": {
        "id": "RRJAOoGpRU56"
      },
      "source": [
        "Histogram of Stress Levels shows that the majority of the records have stress levels around 5-6 on the scale of 1 to 10.\n",
        "Also, there seems to be a not very strong relationship between better sleep quality and slightly lower stress levels."
      ]
    },
    {
      "cell_type": "markdown",
      "metadata": {
        "id": "UgcMV13JRU56"
      },
      "source": [
        "# Model"
      ]
    },
    {
      "cell_type": "markdown",
      "metadata": {
        "id": "faB0eBrtRU56"
      },
      "source": [
        "## Selection"
      ]
    },
    {
      "cell_type": "markdown",
      "metadata": {
        "id": "k1yNdGuDRU56"
      },
      "source": [
        "For predicting the stress level, we are going to use Random Forest, for its robustness to outliers and generally provides good results without heavy tuning.\n",
        "Let's train a Random Fores  Regressor model to predict the stress level and evaluate which features are the most informative. We will also configure it to classify results into three categories as specified."
      ]
    },
    {
      "cell_type": "code",
      "execution_count": 22,
      "metadata": {
        "id": "DCu2E5WgRU56"
      },
      "outputs": [
        {
          "name": "stdout",
          "output_type": "stream",
          "text": [
            "0.9911504424778761\n",
            "              precision    recall  f1-score   support\n",
            "\n",
            "         0-3       1.00      1.00      1.00        23\n",
            "         3-6       1.00      0.98      0.99        49\n",
            "         6-8       0.98      1.00      0.99        41\n",
            "\n",
            "    accuracy                           0.99       113\n",
            "   macro avg       0.99      0.99      0.99       113\n",
            "weighted avg       0.99      0.99      0.99       113\n",
            "\n"
          ]
        }
      ],
      "source": [
        "# Define features and labels\n",
        "X = df.drop(['Person ID', 'Stress Level', 'Occupation'], axis=1)\n",
        "y = pd.cut(df['Stress Level'], bins=[0, 3, 6, 8], include_lowest=True, labels=['0-3', '3-6', '6-8'])\n",
        "\n",
        "# Split the data into training and test sets\n",
        "X_train, X_test, y_train, y_test = train_test_split(X, y, test_size=0.3, random_state=42)\n",
        "\n",
        "# Instantiate and train the RandomForest model\n",
        "model = RandomForestClassifier(n_estimators=100, random_state=12)\n",
        "model.fit(X_train, y_train)\n",
        "\n",
        "# Make predictions on the test set\n",
        "y_pred = model.predict(X_test)\n",
        "\n",
        "# Model evaluation\n",
        "accuracy = accuracy_score(y_test, y_pred)\n",
        "report = classification_report(y_test, y_pred)\n",
        "\n",
        "print(accuracy)\n",
        "print(report)"
      ]
    },
    {
      "cell_type": "markdown",
      "metadata": {
        "id": "azSVVSPbRU56"
      },
      "source": [
        "## More important vartiables"
      ]
    },
    {
      "cell_type": "code",
      "execution_count": 23,
      "metadata": {
        "id": "YHdE2gvqRU56"
      },
      "outputs": [
        {
          "data": {
            "image/png": "[encoded data removed]",
            "text/plain": [
              "<Figure size 1000x600 with 1 Axes>"
            ]
          },
          "metadata": {},
          "output_type": "display_data"
        },
        {
          "data": {
            "text/html": [
              "<div>\n",
              "<style scoped>\n",
              "    .dataframe tbody tr th:only-of-type {\n",
              "        vertical-align: middle;\n",
              "    }\n",
              "\n",
              "    .dataframe tbody tr th {\n",
              "        vertical-align: top;\n",
              "    }\n",
              "\n",
              "    .dataframe thead th {\n",
              "        text-align: right;\n",
              "    }\n",
              "</style>\n",
              "<table border=\"1\" class=\"dataframe\">\n",
              "  <thead>\n",
              "    <tr style=\"text-align: right;\">\n",
              "      <th></th>\n",
              "      <th>Features</th>\n",
              "      <th>Importance</th>\n",
              "    </tr>\n",
              "  </thead>\n",
              "  <tbody>\n",
              "    <tr>\n",
              "      <th>3</th>\n",
              "      <td>Quality of Sleep</td>\n",
              "      <td>0.302703</td>\n",
              "    </tr>\n",
              "    <tr>\n",
              "      <th>2</th>\n",
              "      <td>Sleep Duration</td>\n",
              "      <td>0.269712</td>\n",
              "    </tr>\n",
              "    <tr>\n",
              "      <th>1</th>\n",
              "      <td>Age</td>\n",
              "      <td>0.128975</td>\n",
              "    </tr>\n",
              "    <tr>\n",
              "      <th>6</th>\n",
              "      <td>Heart Rate</td>\n",
              "      <td>0.106797</td>\n",
              "    </tr>\n",
              "    <tr>\n",
              "      <th>4</th>\n",
              "      <td>Physical Activity Level</td>\n",
              "      <td>0.053504</td>\n",
              "    </tr>\n",
              "    <tr>\n",
              "      <th>7</th>\n",
              "      <td>Daily Steps</td>\n",
              "      <td>0.050689</td>\n",
              "    </tr>\n",
              "    <tr>\n",
              "      <th>9</th>\n",
              "      <td>Systolic BP</td>\n",
              "      <td>0.029781</td>\n",
              "    </tr>\n",
              "    <tr>\n",
              "      <th>10</th>\n",
              "      <td>Diastolic BP</td>\n",
              "      <td>0.023592</td>\n",
              "    </tr>\n",
              "    <tr>\n",
              "      <th>0</th>\n",
              "      <td>Gender</td>\n",
              "      <td>0.013248</td>\n",
              "    </tr>\n",
              "    <tr>\n",
              "      <th>5</th>\n",
              "      <td>BMI Category</td>\n",
              "      <td>0.010915</td>\n",
              "    </tr>\n",
              "    <tr>\n",
              "      <th>8</th>\n",
              "      <td>Sleep Disorder</td>\n",
              "      <td>0.010084</td>\n",
              "    </tr>\n",
              "  </tbody>\n",
              "</table>\n",
              "</div>"
            ],
            "text/plain": [
              "                   Features  Importance\n",
              "3          Quality of Sleep    0.302703\n",
              "2            Sleep Duration    0.269712\n",
              "1                       Age    0.128975\n",
              "6                Heart Rate    0.106797\n",
              "4   Physical Activity Level    0.053504\n",
              "7               Daily Steps    0.050689\n",
              "9               Systolic BP    0.029781\n",
              "10             Diastolic BP    0.023592\n",
              "0                    Gender    0.013248\n",
              "5              BMI Category    0.010915\n",
              "8            Sleep Disorder    0.010084"
            ]
          },
          "execution_count": 23,
          "metadata": {},
          "output_type": "execute_result"
        }
      ],
      "source": [
        "# Obtain feature importance.\n",
        "feature_importances = model.feature_importances_\n",
        "features = X.columns\n",
        "\n",
        "# Create a DataFrame to visualize the feature importances.\n",
        "importances_df = pd.DataFrame({\n",
        "    'Features': features,\n",
        "    'Importance': feature_importances\n",
        "}).sort_values(by='Importance', ascending=False)\n",
        "\n",
        "# Bar chart for feature importance.\n",
        "plt.figure(figsize=(10, 6))\n",
        "plt.barh(importances_df['Features'], importances_df['Importance'], color='skyblue')\n",
        "plt.xlabel('Importance')\n",
        "plt.title('Feature Importance in Predicting Stress Level')\n",
        "plt.gca().invert_yaxis()  # Invert the y-axis to show the most important at the top.\n",
        "plt.show()\n",
        "\n",
        "importances_df"
      ]
    },
    {
      "cell_type": "markdown",
      "metadata": {
        "id": "0KzqB07HRU5-"
      },
      "source": [
        "We can see that the more importatn Features are \"Sleep Duration\" and \"Quality of Sleep\"."
      ]
    },
    {
      "cell_type": "markdown",
      "metadata": {
        "id": "3Kd7ezoARU5-"
      },
      "source": [
        "## Stress-Associated Factors Groups\n",
        "\n",
        "- **Sleep:** This group may include individuals whose stress levels are primarily influenced by the duration and quality of sleep.\n",
        "\n",
        "- **Exercise:** This group may include individuals whose stress levels are more related to their level of physical activity.\n",
        "\n",
        "- **Physical Conditions:** This group may encompass individuals whose stress is primarily associated with physical conditions such as heart rate, blood pressure, and the presence of sleep disorders.\n"
      ]
    },
    {
      "cell_type": "markdown",
      "metadata": {
        "id": "YUjBAPOZRU5-"
      },
      "source": [
        "# Conclusion\n",
        "With the algorithm we have developed, we are demonstrating very high accuracy (> 90%). However, I believe that other individual factors need to be taken into account to determine it accurately. This machine learning model has been trained with data from \"Google,\" according to the source."
      ]
    },
    {
      "cell_type": "markdown",
      "metadata": {
        "id": "W5_VbM3ayaH-"
      },
      "source": [
        "# #2 Part\n",
        "\n",
        "1. Seleccionar un algoritmo de los datos estudiados de aprendizaje no supervisado que pueda indicar qué factor es más importante para determinar ese estrés.\n",
        "2. Responde y argumenta: ¿es este componente el mismo que determinaste al usar el modelo de regresión?\n",
        "3. Determina qué factores distinguen más los datos entre\n",
        "los niveles que se te solicitó en el ejercicio de regresión:\n",
        "no estresado (0-3), estresado (3-6), extremadamente\n",
        "estresado (7-8)."
      ]
    },
    {
      "cell_type": "markdown",
      "metadata": {
        "id": "kTX7dzdk0I5i"
      },
      "source": [
        "# LDA\n",
        "We are going to use LDA (Linear Discriminant Analysis) for determination of main facts about stress. This method try to explain the differences between predefined classes.\n",
        "\n",
        "First we are going to assign labels to the data according to stress levels.\n",
        "Then normalize data. And finally, apply LDA to reduce dimensionality considering the labels."
      ]
    },
    {
      "cell_type": "code",
      "execution_count": 24,
      "metadata": {
        "id": "0uEWwqp2B-ul"
      },
      "outputs": [
        {
          "data": {
            "text/html": [
              "<div>\n",
              "<style scoped>\n",
              "    .dataframe tbody tr th:only-of-type {\n",
              "        vertical-align: middle;\n",
              "    }\n",
              "\n",
              "    .dataframe tbody tr th {\n",
              "        vertical-align: top;\n",
              "    }\n",
              "\n",
              "    .dataframe thead th {\n",
              "        text-align: right;\n",
              "    }\n",
              "</style>\n",
              "<table border=\"1\" class=\"dataframe\">\n",
              "  <thead>\n",
              "    <tr style=\"text-align: right;\">\n",
              "      <th></th>\n",
              "      <th>Person ID</th>\n",
              "      <th>Gender</th>\n",
              "      <th>Age</th>\n",
              "      <th>Occupation</th>\n",
              "      <th>Sleep Duration</th>\n",
              "      <th>Quality of Sleep</th>\n",
              "      <th>Physical Activity Level</th>\n",
              "      <th>Stress Level</th>\n",
              "      <th>BMI Category</th>\n",
              "      <th>Heart Rate</th>\n",
              "      <th>Daily Steps</th>\n",
              "      <th>Sleep Disorder</th>\n",
              "      <th>Systolic BP</th>\n",
              "      <th>Diastolic BP</th>\n",
              "      <th>stress_category</th>\n",
              "    </tr>\n",
              "  </thead>\n",
              "  <tbody>\n",
              "    <tr>\n",
              "      <th>0</th>\n",
              "      <td>1</td>\n",
              "      <td>1</td>\n",
              "      <td>27</td>\n",
              "      <td>9</td>\n",
              "      <td>6.1</td>\n",
              "      <td>6</td>\n",
              "      <td>42</td>\n",
              "      <td>6</td>\n",
              "      <td>3</td>\n",
              "      <td>77</td>\n",
              "      <td>4200</td>\n",
              "      <td>1</td>\n",
              "      <td>126</td>\n",
              "      <td>83</td>\n",
              "      <td>1</td>\n",
              "    </tr>\n",
              "    <tr>\n",
              "      <th>1</th>\n",
              "      <td>2</td>\n",
              "      <td>1</td>\n",
              "      <td>28</td>\n",
              "      <td>1</td>\n",
              "      <td>6.2</td>\n",
              "      <td>6</td>\n",
              "      <td>60</td>\n",
              "      <td>8</td>\n",
              "      <td>0</td>\n",
              "      <td>75</td>\n",
              "      <td>10000</td>\n",
              "      <td>1</td>\n",
              "      <td>125</td>\n",
              "      <td>80</td>\n",
              "      <td>2</td>\n",
              "    </tr>\n",
              "    <tr>\n",
              "      <th>2</th>\n",
              "      <td>3</td>\n",
              "      <td>1</td>\n",
              "      <td>28</td>\n",
              "      <td>1</td>\n",
              "      <td>6.2</td>\n",
              "      <td>6</td>\n",
              "      <td>60</td>\n",
              "      <td>8</td>\n",
              "      <td>0</td>\n",
              "      <td>75</td>\n",
              "      <td>10000</td>\n",
              "      <td>1</td>\n",
              "      <td>125</td>\n",
              "      <td>80</td>\n",
              "      <td>2</td>\n",
              "    </tr>\n",
              "    <tr>\n",
              "      <th>3</th>\n",
              "      <td>4</td>\n",
              "      <td>1</td>\n",
              "      <td>28</td>\n",
              "      <td>6</td>\n",
              "      <td>5.9</td>\n",
              "      <td>4</td>\n",
              "      <td>30</td>\n",
              "      <td>8</td>\n",
              "      <td>2</td>\n",
              "      <td>85</td>\n",
              "      <td>3000</td>\n",
              "      <td>2</td>\n",
              "      <td>140</td>\n",
              "      <td>90</td>\n",
              "      <td>2</td>\n",
              "    </tr>\n",
              "    <tr>\n",
              "      <th>4</th>\n",
              "      <td>5</td>\n",
              "      <td>1</td>\n",
              "      <td>28</td>\n",
              "      <td>6</td>\n",
              "      <td>5.9</td>\n",
              "      <td>4</td>\n",
              "      <td>30</td>\n",
              "      <td>8</td>\n",
              "      <td>2</td>\n",
              "      <td>85</td>\n",
              "      <td>3000</td>\n",
              "      <td>2</td>\n",
              "      <td>140</td>\n",
              "      <td>90</td>\n",
              "      <td>2</td>\n",
              "    </tr>\n",
              "  </tbody>\n",
              "</table>\n",
              "</div>"
            ],
            "text/plain": [
              "   Person ID  Gender  Age  Occupation  Sleep Duration  Quality of Sleep  \\\n",
              "0          1       1   27           9             6.1                 6   \n",
              "1          2       1   28           1             6.2                 6   \n",
              "2          3       1   28           1             6.2                 6   \n",
              "3          4       1   28           6             5.9                 4   \n",
              "4          5       1   28           6             5.9                 4   \n",
              "\n",
              "   Physical Activity Level  Stress Level  BMI Category  Heart Rate  \\\n",
              "0                       42             6             3          77   \n",
              "1                       60             8             0          75   \n",
              "2                       60             8             0          75   \n",
              "3                       30             8             2          85   \n",
              "4                       30             8             2          85   \n",
              "\n",
              "   Daily Steps  Sleep Disorder  Systolic BP  Diastolic BP  stress_category  \n",
              "0         4200               1          126            83                1  \n",
              "1        10000               1          125            80                2  \n",
              "2        10000               1          125            80                2  \n",
              "3         3000               2          140            90                2  \n",
              "4         3000               2          140            90                2  "
            ]
          },
          "execution_count": 24,
          "metadata": {},
          "output_type": "execute_result"
        }
      ],
      "source": [
        "# Creating a new column for stress\n",
        "def stress_level(score):\n",
        "    if score <= 3:\n",
        "        return 0\n",
        "    elif score <= 6:\n",
        "        return 1\n",
        "    else:\n",
        "        return 2\n",
        "\n",
        "df['stress_category'] = df['Stress Level'].apply(stress_level)\n",
        "\n",
        "# Separation of features and labels.\n",
        "X = df.drop(['Stress Level', 'stress_category', 'Occupation', 'Person ID'], axis=1).copy()\n",
        "y = df['stress_category']\n",
        "df.head()"
      ]
    },
    {
      "cell_type": "code",
      "execution_count": 25,
      "metadata": {
        "id": "gJVCsl-dy7Fl"
      },
      "outputs": [
        {
          "data": {
            "image/png": "[encoded data removed]",
            "text/plain": [
              "<Figure size 1000x600 with 1 Axes>"
            ]
          },
          "metadata": {},
          "output_type": "display_data"
        }
      ],
      "source": [
        "# Creation and fitting of the LDA model.\n",
        "lda = LDA(n_components=2)  # n_components depends on the number of classes - 1.\n",
        "X_lda = lda.fit_transform(X, y)\n",
        "\n",
        "# Create a DataFrame to visualize the importances.\n",
        "importances_df_unsuper = pd.DataFrame({\n",
        "    'Features': X.columns,\n",
        "    'Importance': lda.coef_[0]\n",
        "})\n",
        "\n",
        "# Calculate the absolute value of the importances.\n",
        "importances_df_unsuper['Absolute Importance'] = abs(importances_df_unsuper['Importance'])\n",
        "\n",
        "# Sort the DataFrame by the absolute value of importance in descending order.\n",
        "importances_df_unsuper = importances_df_unsuper.sort_values(by='Absolute Importance', ascending=False)\n",
        "\n",
        "# Bar chart for the feature importance.\n",
        "plt.figure(figsize=(10, 6))\n",
        "plt.barh(importances_df_unsuper['Features'], importances_df_unsuper['Importance'], color='skyblue')\n",
        "plt.xlabel('Importance')\n",
        "plt.title('Feature Importance in LDA')\n",
        "plt.gca().invert_yaxis()  # Invertir el eje y para mostrar el más importante en la parte superior\n",
        "plt.show()"
      ]
    },
    {
      "cell_type": "markdown",
      "metadata": {
        "id": "dvccRSwRzYkY"
      },
      "source": [
        "## Comparing results"
      ]
    },
    {
      "cell_type": "code",
      "execution_count": 26,
      "metadata": {
        "id": "wTlMrLPYCcmR"
      },
      "outputs": [
        {
          "name": "stdout",
          "output_type": "stream",
          "text": [
            "                    Feature  Importance  Absolute Importance\n",
            "2            Sleep Duration   17.546136            17.546136\n",
            "3          Quality of Sleep    8.860076             8.860076\n",
            "0                    Gender   -5.786168             5.786168\n",
            "8            Sleep Disorder    2.970363             2.970363\n",
            "10             Diastolic BP    1.426048             1.426048\n",
            "5              BMI Category    1.357972             1.357972\n",
            "9               Systolic BP   -0.497314             0.497314\n",
            "4   Physical Activity Level   -0.350842             0.350842\n",
            "1                       Age   -0.319021             0.319021\n",
            "6                Heart Rate    0.055236             0.055236\n",
            "7               Daily Steps    0.000381             0.000381\n"
          ]
        },
        {
          "data": {
            "text/html": [
              "<div>\n",
              "<style scoped>\n",
              "    .dataframe tbody tr th:only-of-type {\n",
              "        vertical-align: middle;\n",
              "    }\n",
              "\n",
              "    .dataframe tbody tr th {\n",
              "        vertical-align: top;\n",
              "    }\n",
              "\n",
              "    .dataframe thead th {\n",
              "        text-align: right;\n",
              "    }\n",
              "</style>\n",
              "<table border=\"1\" class=\"dataframe\">\n",
              "  <thead>\n",
              "    <tr style=\"text-align: right;\">\n",
              "      <th></th>\n",
              "      <th>Features</th>\n",
              "      <th>Importance</th>\n",
              "    </tr>\n",
              "  </thead>\n",
              "  <tbody>\n",
              "    <tr>\n",
              "      <th>3</th>\n",
              "      <td>Quality of Sleep</td>\n",
              "      <td>0.302703</td>\n",
              "    </tr>\n",
              "    <tr>\n",
              "      <th>2</th>\n",
              "      <td>Sleep Duration</td>\n",
              "      <td>0.269712</td>\n",
              "    </tr>\n",
              "    <tr>\n",
              "      <th>1</th>\n",
              "      <td>Age</td>\n",
              "      <td>0.128975</td>\n",
              "    </tr>\n",
              "    <tr>\n",
              "      <th>6</th>\n",
              "      <td>Heart Rate</td>\n",
              "      <td>0.106797</td>\n",
              "    </tr>\n",
              "    <tr>\n",
              "      <th>4</th>\n",
              "      <td>Physical Activity Level</td>\n",
              "      <td>0.053504</td>\n",
              "    </tr>\n",
              "    <tr>\n",
              "      <th>7</th>\n",
              "      <td>Daily Steps</td>\n",
              "      <td>0.050689</td>\n",
              "    </tr>\n",
              "    <tr>\n",
              "      <th>9</th>\n",
              "      <td>Systolic BP</td>\n",
              "      <td>0.029781</td>\n",
              "    </tr>\n",
              "    <tr>\n",
              "      <th>10</th>\n",
              "      <td>Diastolic BP</td>\n",
              "      <td>0.023592</td>\n",
              "    </tr>\n",
              "    <tr>\n",
              "      <th>0</th>\n",
              "      <td>Gender</td>\n",
              "      <td>0.013248</td>\n",
              "    </tr>\n",
              "    <tr>\n",
              "      <th>5</th>\n",
              "      <td>BMI Category</td>\n",
              "      <td>0.010915</td>\n",
              "    </tr>\n",
              "    <tr>\n",
              "      <th>8</th>\n",
              "      <td>Sleep Disorder</td>\n",
              "      <td>0.010084</td>\n",
              "    </tr>\n",
              "  </tbody>\n",
              "</table>\n",
              "</div>"
            ],
            "text/plain": [
              "                   Features  Importance\n",
              "3          Quality of Sleep    0.302703\n",
              "2            Sleep Duration    0.269712\n",
              "1                       Age    0.128975\n",
              "6                Heart Rate    0.106797\n",
              "4   Physical Activity Level    0.053504\n",
              "7               Daily Steps    0.050689\n",
              "9               Systolic BP    0.029781\n",
              "10             Diastolic BP    0.023592\n",
              "0                    Gender    0.013248\n",
              "5              BMI Category    0.010915\n",
              "8            Sleep Disorder    0.010084"
            ]
          },
          "execution_count": 26,
          "metadata": {},
          "output_type": "execute_result"
        }
      ],
      "source": [
        "# Display the importance of each feature.\n",
        "importance = pd.DataFrame({'Feature': X.columns, 'Importance': lda.coef_[0]})\n",
        "importance['Absolute Importance'] = abs(importance['Importance'])  # Calcula el valor absoluto\n",
        "importance = importance.sort_values(by='Absolute Importance', ascending=False)\n",
        "print(importance)\n",
        "\n",
        "# Comparing with the the regresion model\n",
        "importances_df"
      ]
    },
    {
      "cell_type": "markdown",
      "metadata": {
        "id": "xmNJGsEz_OaF"
      },
      "source": [
        "**Principal matches**: Both models identify \"Sleep Duration\" and \"Quality of Sleep\" as the two most important factors, although in reverse order. Similarly, they suggest that both models agree that these two variables are crucial in predicting and differentiating stress levels.\n",
        "\n",
        "**Discrepancies**: Some variables such as \"Gender\" and \"Sleep Disorder\" have significant importance in LDA but not in the regression model, which could indicate that these factors are more relevant.\n",
        "\n",
        "# Conclusion\n",
        "\n",
        "The LDA and regression models are quite aligned in identifying sleep duration and quality as crucial factors for stress, reaffirming the importance of focusing on improving these areas for HR interventions.\n",
        "\n",
        "The identification of other factors such as gender and sleep disorder only in LDA but not as much in the regression model indicates that these factors may be more useful for specific categorizations rather than for general influences on a continuous stress metric."
      ]
    }
  ],
  "metadata": {
    "colab": {
      "provenance": [],
      "toc_visible": true
    },
    "kernelspec": {
      "display_name": "Python 3",
      "language": "python",
      "name": "python3"
    },
    "language_info": {
      "codemirror_mode": {
        "name": "ipython",
        "version": 3
      },
      "file_extension": ".py",
      "mimetype": "text/x-python",
      "name": "python",
      "nbconvert_exporter": "python",
      "pygments_lexer": "ipython3",
      "version": "3.9.9"
    }
  },
  "nbformat": 4,
  "nbformat_minor": 0
}
